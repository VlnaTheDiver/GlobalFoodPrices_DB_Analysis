{
 "cells": [
  {
   "cell_type": "code",
   "execution_count": 13,
   "metadata": {},
   "outputs": [
    {
     "ename": "ModuleNotFoundError",
     "evalue": "No module named 'matplotlib'",
     "output_type": "error",
     "traceback": [
      "\u001b[1;31m---------------------------------------------------------------------------\u001b[0m",
      "\u001b[1;31mModuleNotFoundError\u001b[0m                       Traceback (most recent call last)",
      "Cell \u001b[1;32mIn [13], line 4\u001b[0m\n\u001b[0;32m      2\u001b[0m \u001b[39mimport\u001b[39;00m \u001b[39mpandas\u001b[39;00m \u001b[39mas\u001b[39;00m \u001b[39mpd\u001b[39;00m\n\u001b[0;32m      3\u001b[0m \u001b[39mimport\u001b[39;00m \u001b[39mnumpy\u001b[39;00m \u001b[39mas\u001b[39;00m \u001b[39mnp\u001b[39;00m\n\u001b[1;32m----> 4\u001b[0m \u001b[39mimport\u001b[39;00m \u001b[39mmatplotlib\u001b[39;00m\u001b[39m.\u001b[39;00m\u001b[39mpyplot\u001b[39;00m \u001b[39mas\u001b[39;00m \u001b[39mplt\u001b[39;00m\n\u001b[0;32m      5\u001b[0m df \u001b[39m=\u001b[39m pd\u001b[39m.\u001b[39mread_csv(\u001b[39m'\u001b[39m\u001b[39mGlobalFoodPrices_Dataset.csv\u001b[39m\u001b[39m'\u001b[39m)\n",
      "\u001b[1;31mModuleNotFoundError\u001b[0m: No module named 'matplotlib'"
     ]
    }
   ],
   "source": [
    "from math import radians\n",
    "import pandas as pd\n",
    "import numpy as np\n",
    "import matplotlib.pyplot as plt\n",
    "df = pd.read_csv('GlobalFoodPrices_Dataset.csv')"
   ]
  },
  {
   "cell_type": "code",
   "execution_count": null,
   "metadata": {},
   "outputs": [
    {
     "data": {
      "text/html": [
       "<div>\n",
       "<style scoped>\n",
       "    .dataframe tbody tr th:only-of-type {\n",
       "        vertical-align: middle;\n",
       "    }\n",
       "\n",
       "    .dataframe tbody tr th {\n",
       "        vertical-align: top;\n",
       "    }\n",
       "\n",
       "    .dataframe thead th {\n",
       "        text-align: right;\n",
       "    }\n",
       "</style>\n",
       "<table border=\"1\" class=\"dataframe\">\n",
       "  <thead>\n",
       "    <tr style=\"text-align: right;\">\n",
       "      <th></th>\n",
       "      <th>count</th>\n",
       "      <th>mean</th>\n",
       "      <th>std</th>\n",
       "      <th>min</th>\n",
       "      <th>25%</th>\n",
       "      <th>50%</th>\n",
       "      <th>75%</th>\n",
       "      <th>max</th>\n",
       "    </tr>\n",
       "  </thead>\n",
       "  <tbody>\n",
       "    <tr>\n",
       "      <th>Food</th>\n",
       "      <td>390.0</td>\n",
       "      <td>84.974359</td>\n",
       "      <td>25.680581</td>\n",
       "      <td>50.50</td>\n",
       "      <td>63.7250</td>\n",
       "      <td>78.450</td>\n",
       "      <td>99.0000</td>\n",
       "      <td>159.7</td>\n",
       "    </tr>\n",
       "    <tr>\n",
       "      <th>Meat</th>\n",
       "      <td>390.0</td>\n",
       "      <td>83.771026</td>\n",
       "      <td>16.833919</td>\n",
       "      <td>51.10</td>\n",
       "      <td>70.6250</td>\n",
       "      <td>82.100</td>\n",
       "      <td>97.0750</td>\n",
       "      <td>125.9</td>\n",
       "    </tr>\n",
       "    <tr>\n",
       "      <th>Dairy</th>\n",
       "      <td>390.0</td>\n",
       "      <td>83.600000</td>\n",
       "      <td>32.682621</td>\n",
       "      <td>36.80</td>\n",
       "      <td>55.0500</td>\n",
       "      <td>76.200</td>\n",
       "      <td>109.1500</td>\n",
       "      <td>156.5</td>\n",
       "    </tr>\n",
       "    <tr>\n",
       "      <th>Cereals</th>\n",
       "      <td>390.0</td>\n",
       "      <td>86.184615</td>\n",
       "      <td>31.002685</td>\n",
       "      <td>48.60</td>\n",
       "      <td>60.0250</td>\n",
       "      <td>84.200</td>\n",
       "      <td>101.7500</td>\n",
       "      <td>173.5</td>\n",
       "    </tr>\n",
       "    <tr>\n",
       "      <th>Oils</th>\n",
       "      <td>390.0</td>\n",
       "      <td>88.221897</td>\n",
       "      <td>37.704093</td>\n",
       "      <td>35.83</td>\n",
       "      <td>62.2625</td>\n",
       "      <td>80.415</td>\n",
       "      <td>105.7525</td>\n",
       "      <td>251.8</td>\n",
       "    </tr>\n",
       "    <tr>\n",
       "      <th>Sugar</th>\n",
       "      <td>390.0</td>\n",
       "      <td>80.760513</td>\n",
       "      <td>31.144603</td>\n",
       "      <td>31.80</td>\n",
       "      <td>57.9500</td>\n",
       "      <td>74.900</td>\n",
       "      <td>99.0000</td>\n",
       "      <td>183.2</td>\n",
       "    </tr>\n",
       "    <tr>\n",
       "      <th>Month</th>\n",
       "      <td>390.0</td>\n",
       "      <td>6.433333</td>\n",
       "      <td>3.437943</td>\n",
       "      <td>1.00</td>\n",
       "      <td>3.0000</td>\n",
       "      <td>6.000</td>\n",
       "      <td>9.0000</td>\n",
       "      <td>12.0</td>\n",
       "    </tr>\n",
       "    <tr>\n",
       "      <th>Year</th>\n",
       "      <td>390.0</td>\n",
       "      <td>2005.758974</td>\n",
       "      <td>9.404826</td>\n",
       "      <td>1990.00</td>\n",
       "      <td>1998.0000</td>\n",
       "      <td>2006.000</td>\n",
       "      <td>2014.0000</td>\n",
       "      <td>2022.0</td>\n",
       "    </tr>\n",
       "  </tbody>\n",
       "</table>\n",
       "</div>"
      ],
      "text/plain": [
       "         count         mean        std      min        25%       50%  \\\n",
       "Food     390.0    84.974359  25.680581    50.50    63.7250    78.450   \n",
       "Meat     390.0    83.771026  16.833919    51.10    70.6250    82.100   \n",
       "Dairy    390.0    83.600000  32.682621    36.80    55.0500    76.200   \n",
       "Cereals  390.0    86.184615  31.002685    48.60    60.0250    84.200   \n",
       "Oils     390.0    88.221897  37.704093    35.83    62.2625    80.415   \n",
       "Sugar    390.0    80.760513  31.144603    31.80    57.9500    74.900   \n",
       "Month    390.0     6.433333   3.437943     1.00     3.0000     6.000   \n",
       "Year     390.0  2005.758974   9.404826  1990.00  1998.0000  2006.000   \n",
       "\n",
       "               75%     max  \n",
       "Food       99.0000   159.7  \n",
       "Meat       97.0750   125.9  \n",
       "Dairy     109.1500   156.5  \n",
       "Cereals   101.7500   173.5  \n",
       "Oils      105.7525   251.8  \n",
       "Sugar      99.0000   183.2  \n",
       "Month       9.0000    12.0  \n",
       "Year     2014.0000  2022.0  "
      ]
     },
     "execution_count": 11,
     "metadata": {},
     "output_type": "execute_result"
    }
   ],
   "source": [
    "#fixing globalfoodprices dataset import (solution via https://www.kaggle.com/code/fethullahceviz/food-price-change-anlaysis)\n",
    "\n",
    "df[['Index','Date','Food','Meat', \"Dairy\" ,\"Cereals\" ,\"Oils\" ,\"Sugar\"]] = df['Date \"Food.Price.Index\" \"Meat\" \"Dairy\" \"Cereals\" \"Oils\" \"Sugar\"'].str.split(' ',n=7, expand=True)\n",
    "df.drop(['Date \"Food.Price.Index\" \"Meat\" \"Dairy\" \"Cereals\" \"Oils\" \"Sugar\"'], axis=1, inplace=True)\n",
    "df.head()\n",
    "# date columns split day month year\n",
    "df[['Day','Month','Year']]=df['Date'].str.split('/',n=3, expand=True)\n",
    "\n",
    "# drop day columns date and index\n",
    "df.drop(['Day','Date','Index'], axis=1, inplace=True)\n",
    "\n",
    "#clean Year oolumns\n",
    "df['Year']=df['Year'].str.replace(r'[^\\w\\s\\.]', ' ', regex=True)\n",
    "\n",
    "# All data to numeric\n",
    "for i in df.columns:\n",
    "    df[i]=pd.to_numeric(df[i])\n",
    "\n",
    "df.describe().T"
   ]
  },
  {
   "cell_type": "markdown",
   "metadata": {},
   "source": [
    "<h1>What is the yearly average price of dairy?</h1>"
   ]
  },
  {
   "cell_type": "code",
   "execution_count": null,
   "metadata": {},
   "outputs": [
    {
     "ename": "NameError",
     "evalue": "name 'plt' is not defined",
     "output_type": "error",
     "traceback": [
      "\u001b[1;31m---------------------------------------------------------------------------\u001b[0m",
      "\u001b[1;31mNameError\u001b[0m                                 Traceback (most recent call last)",
      "Cell \u001b[1;32mIn [12], line 1\u001b[0m\n\u001b[1;32m----> 1\u001b[0m plt\u001b[39m.\u001b[39mfigure(figsize\u001b[39m=\u001b[39m(\u001b[39m18\u001b[39m, \u001b[39m12\u001b[39m))\n\u001b[0;32m      3\u001b[0m plt\u001b[39m.\u001b[39msubplot(\u001b[39m2\u001b[39m, \u001b[39m2\u001b[39m, \u001b[39m1\u001b[39m)\n\u001b[0;32m      4\u001b[0m df[\u001b[39m'\u001b[39m\u001b[39mOils\u001b[39m\u001b[39m'\u001b[39m]\u001b[39m.\u001b[39mhist(bins\u001b[39m=\u001b[39m\u001b[39m50\u001b[39m, label\u001b[39m=\u001b[39m\u001b[39m'\u001b[39m\u001b[39mOils\u001b[39m\u001b[39m'\u001b[39m, alpha\u001b[39m=\u001b[39m\u001b[39m0.6\u001b[39m, color\u001b[39m=\u001b[39m\u001b[39m'\u001b[39m\u001b[39m#410258\u001b[39m\u001b[39m'\u001b[39m)\n",
      "\u001b[1;31mNameError\u001b[0m: name 'plt' is not defined"
     ]
    }
   ],
   "source": [
    "plt.figure(figsize=(18, 12))\n",
    "\n",
    "plt.subplot(2, 2, 1)\n",
    "df['Oils'].hist(bins=50, label='Oils', alpha=0.6, color='#410258')\n",
    "plt.axvline(np.mean(df['Oils']), ls='--', c='r', label=\"Mean\")\n",
    "plt.axvline(np.median(df['Oils']), ls=':', c='g', label=\"Median\")\n",
    "plt.ylabel(\"Counts\")\n",
    "plt.title(\"Oils Price Distribution\")\n",
    "plt.legend()\n",
    "\n",
    "plt.subplot(2, 2, 2)\n",
    "plt.scatter(df['Oils'], np.random.normal(7, 0.2, size=df.shape[0]), alpha=0.5 ,color='#410258')\n",
    "plt.title(\"Oils Price Distribution\")"
   ]
  }
 ],
 "metadata": {
  "kernelspec": {
   "display_name": "Python 3.10.6 64-bit",
   "language": "python",
   "name": "python3"
  },
  "language_info": {
   "codemirror_mode": {
    "name": "ipython",
    "version": 3
   },
   "file_extension": ".py",
   "mimetype": "text/x-python",
   "name": "python",
   "nbconvert_exporter": "python",
   "pygments_lexer": "ipython3",
   "version": "3.10.6"
  },
  "orig_nbformat": 4,
  "vscode": {
   "interpreter": {
    "hash": "2be59181caf08482416974c88260d83ebd33dc2296d1b0b8830021d0b11b63b8"
   }
  }
 },
 "nbformat": 4,
 "nbformat_minor": 2
}
